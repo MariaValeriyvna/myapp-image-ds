{
  "cells": [
    {
      "cell_type": "markdown",
      "id": "eb199a05",
      "metadata": {
        "id": "eb199a05"
      },
      "source": [
        "# Подготовка модели распознавания рукописных букв и цифр\n",
        "\n",
        "Вам предстоит самостоятельно обучить модель для задачи распознавания рукописных букв и цифр с помощью датасета `emnist`. Результатом должна быть обученная модель, сохранённая в файл `model.pkl`.\n",
        "\n",
        "Можете воспользоваться предложенным порядком действий и подсказками из этого ноутбука или подойти к решению задачи самостоятельно и написать всё с нуля. То же касается и процесса упаковки модели в сервис для распознавания самостоятельно написанных символов.\n",
        "\n",
        "В этом ноутбуке комментариями и символами `...` отмечены места для вашего кода.\n",
        "\n",
        "Перед отправкой решения убедитесь, что все ячейки ноутбука выполняются последовательно без ошибок, если запустить `Kernel -> Restart & Run All`.\n",
        "\n",
        "Успехов!\n",
        "\n",
        "### 1. Установите и импортируйте необходимые библиотеки"
      ]
    },
    {
      "cell_type": "code",
      "execution_count": 1,
      "id": "9abed783",
      "metadata": {
        "id": "9abed783",
        "scrolled": true
      },
      "outputs": [],
      "source": [
        "# !pip install emnist\n",
        "# your pip installs here"
      ]
    },
    {
      "cell_type": "code",
      "execution_count": 2,
      "id": "3aaedc95",
      "metadata": {},
      "outputs": [],
      "source": [
        "import os\n",
        "import pickle\n",
        "import emnist"
      ]
    },
    {
      "cell_type": "code",
      "execution_count": 3,
      "id": "99ac860b",
      "metadata": {
        "id": "99ac860b"
      },
      "outputs": [
        {
          "name": "stderr",
          "output_type": "stream",
          "text": [
            "c:\\Python310\\lib\\site-packages\\scipy\\__init__.py:155: UserWarning: A NumPy version >=1.18.5 and <1.25.0 is required for this version of SciPy (detected version 1.26.4\n",
            "  warnings.warn(f\"A NumPy version >={np_minversion} and <{np_maxversion}\"\n"
          ]
        }
      ],
      "source": [
        "# your imports here\n",
        "import numpy as np\n",
        "import matplotlib.pyplot as plt\n",
        "from sklearn.metrics import accuracy_score, confusion_matrix\n",
        "import seaborn as sns"
      ]
    },
    {
      "cell_type": "markdown",
      "id": "dcf2e1da",
      "metadata": {
        "id": "dcf2e1da"
      },
      "source": [
        "### 2. Загрузите датасет и проанализируйте его\n",
        "\n",
        "Датасет в качестве лейблов (или таргетов) содержит числа от 0 до 46. Каждому числу соответствует ASCII-код некоторого символа. Пары «лейбл — код» хранятся в файле `emnist-balanced-mapping.txt`.\n",
        "Выведите на экран количество семплов в каждом сплите датасета и размер изображений. Также для каждого лейбла выведите соответствующий ему символ и количество тренировочных семплов, приходящееся на него.\n",
        "Посмотрите на несколько примеров изображений.\n",
        "\n",
        "_Подсказка: чтобы получить символ из ASCII-кода, нужно воспользоваться функцией_ `chr()`. _Для вашего удобства можно построить словарь_ (`dict`) _соответствий._"
      ]
    },
    {
      "cell_type": "code",
      "execution_count": 4,
      "id": "cb5035ba",
      "metadata": {
        "id": "cb5035ba"
      },
      "outputs": [
        {
          "name": "stdout",
          "output_type": "stream",
          "text": [
            "Train: 112800 samples\n",
            "Test: 18800 samples\n",
            "Image size: (28, 28)\n",
            "Number of classes: 256\n"
          ]
        },
        {
          "data": {
            "text/plain": [
              "((112800, 28, 28), (112800,), (18800, 28, 28), (18800,))"
            ]
          },
          "execution_count": 4,
          "metadata": {},
          "output_type": "execute_result"
        }
      ],
      "source": [
        "images_train, labels_train = emnist.extract_training_samples('balanced')\n",
        "images_test, labels_test = emnist.extract_test_samples('balanced')\n",
        "\n",
        "print(f'Train: {len(images_train)} samples')\n",
        "print(f'Test: {len(images_test)} samples')\n",
        "print(f'Image size: {images_train[0].shape}')\n",
        "print(\"Number of classes:\", len(np.unique(images_train)))\n",
        "images_train.shape, labels_train.shape, images_test.shape, labels_test.shape"
      ]
    },
    {
      "cell_type": "code",
      "execution_count": 5,
      "id": "ae411cac",
      "metadata": {},
      "outputs": [
        {
          "data": {
            "text/plain": [
              "{0: '0',\n",
              " 1: '1',\n",
              " 2: '2',\n",
              " 3: '3',\n",
              " 4: '4',\n",
              " 5: '5',\n",
              " 6: '6',\n",
              " 7: '7',\n",
              " 8: '8',\n",
              " 9: '9',\n",
              " 10: 'A',\n",
              " 11: 'B',\n",
              " 12: 'C',\n",
              " 13: 'D',\n",
              " 14: 'E',\n",
              " 15: 'F',\n",
              " 16: 'G',\n",
              " 17: 'H',\n",
              " 18: 'I',\n",
              " 19: 'J',\n",
              " 20: 'K',\n",
              " 21: 'L',\n",
              " 22: 'M',\n",
              " 23: 'N',\n",
              " 24: 'O',\n",
              " 25: 'P',\n",
              " 26: 'Q',\n",
              " 27: 'R',\n",
              " 28: 'S',\n",
              " 29: 'T',\n",
              " 30: 'U',\n",
              " 31: 'V',\n",
              " 32: 'W',\n",
              " 33: 'X',\n",
              " 34: 'Y',\n",
              " 35: 'Z',\n",
              " 36: 'a',\n",
              " 37: 'b',\n",
              " 38: 'd',\n",
              " 39: 'e',\n",
              " 40: 'f',\n",
              " 41: 'g',\n",
              " 42: 'h',\n",
              " 43: 'n',\n",
              " 44: 'q',\n",
              " 45: 'r',\n",
              " 46: 't'}"
            ]
          },
          "execution_count": 5,
          "metadata": {},
          "output_type": "execute_result"
        }
      ],
      "source": [
        "# Создаем словарь соответствия лейблов и символов ASCII\n",
        "label_mapping = {}\n",
        "with open('emnist-balanced-mapping.txt', 'r') as file:\n",
        "    for line in file:\n",
        "        label, ascii_code = map(int, line.strip().split())\n",
        "        label_mapping[label] = chr(ascii_code)\n",
        "\n",
        "label_mapping   "
      ]
    },
    {
      "cell_type": "code",
      "execution_count": 6,
      "id": "221983ee",
      "metadata": {},
      "outputs": [
        {
          "name": "stdout",
          "output_type": "stream",
          "text": [
            "\n",
            "Символы и количество тренировочных семплов для каждого лейбла:\n",
            "Лейбл: 0, Символ: 0, Количество семплов: 2400\n",
            "Лейбл: 1, Символ: 1, Количество семплов: 2400\n",
            "Лейбл: 2, Символ: 2, Количество семплов: 2400\n",
            "Лейбл: 3, Символ: 3, Количество семплов: 2400\n",
            "Лейбл: 4, Символ: 4, Количество семплов: 2400\n",
            "Лейбл: 5, Символ: 5, Количество семплов: 2400\n",
            "Лейбл: 6, Символ: 6, Количество семплов: 2400\n",
            "Лейбл: 7, Символ: 7, Количество семплов: 2400\n",
            "Лейбл: 8, Символ: 8, Количество семплов: 2400\n",
            "Лейбл: 9, Символ: 9, Количество семплов: 2400\n",
            "Лейбл: 10, Символ: A, Количество семплов: 2400\n",
            "Лейбл: 11, Символ: B, Количество семплов: 2400\n",
            "Лейбл: 12, Символ: C, Количество семплов: 2400\n",
            "Лейбл: 13, Символ: D, Количество семплов: 2400\n",
            "Лейбл: 14, Символ: E, Количество семплов: 2400\n",
            "Лейбл: 15, Символ: F, Количество семплов: 2400\n",
            "Лейбл: 16, Символ: G, Количество семплов: 2400\n",
            "Лейбл: 17, Символ: H, Количество семплов: 2400\n",
            "Лейбл: 18, Символ: I, Количество семплов: 2400\n",
            "Лейбл: 19, Символ: J, Количество семплов: 2400\n",
            "Лейбл: 20, Символ: K, Количество семплов: 2400\n",
            "Лейбл: 21, Символ: L, Количество семплов: 2400\n",
            "Лейбл: 22, Символ: M, Количество семплов: 2400\n",
            "Лейбл: 23, Символ: N, Количество семплов: 2400\n",
            "Лейбл: 24, Символ: O, Количество семплов: 2400\n",
            "Лейбл: 25, Символ: P, Количество семплов: 2400\n",
            "Лейбл: 26, Символ: Q, Количество семплов: 2400\n",
            "Лейбл: 27, Символ: R, Количество семплов: 2400\n",
            "Лейбл: 28, Символ: S, Количество семплов: 2400\n",
            "Лейбл: 29, Символ: T, Количество семплов: 2400\n",
            "Лейбл: 30, Символ: U, Количество семплов: 2400\n",
            "Лейбл: 31, Символ: V, Количество семплов: 2400\n",
            "Лейбл: 32, Символ: W, Количество семплов: 2400\n",
            "Лейбл: 33, Символ: X, Количество семплов: 2400\n",
            "Лейбл: 34, Символ: Y, Количество семплов: 2400\n",
            "Лейбл: 35, Символ: Z, Количество семплов: 2400\n",
            "Лейбл: 36, Символ: a, Количество семплов: 2400\n",
            "Лейбл: 37, Символ: b, Количество семплов: 2400\n",
            "Лейбл: 38, Символ: d, Количество семплов: 2400\n",
            "Лейбл: 39, Символ: e, Количество семплов: 2400\n",
            "Лейбл: 40, Символ: f, Количество семплов: 2400\n",
            "Лейбл: 41, Символ: g, Количество семплов: 2400\n",
            "Лейбл: 42, Символ: h, Количество семплов: 2400\n",
            "Лейбл: 43, Символ: n, Количество семплов: 2400\n",
            "Лейбл: 44, Символ: q, Количество семплов: 2400\n",
            "Лейбл: 45, Символ: r, Количество семплов: 2400\n",
            "Лейбл: 46, Символ: t, Количество семплов: 2400\n"
          ]
        }
      ],
      "source": [
        "# Выводим символы и количество тренировочных семплов для каждого лейбла\n",
        "print(\"\\nСимволы и количество тренировочных семплов для каждого лейбла:\")\n",
        "for label, symbol in label_mapping.items():\n",
        "    num_samples = sum(labels_train == label)\n",
        "    print(f\"Лейбл: {label}, Символ: {symbol}, Количество семплов: {num_samples}\")"
      ]
    },
    {
      "cell_type": "code",
      "execution_count": 7,
      "id": "0b4bf61c",
      "metadata": {},
      "outputs": [
        {
          "data": {
            "image/png": "[encoded data removed]",
            "text/plain": [
              "<Figure size 576x576 with 9 Axes>"
            ]
          },
          "metadata": {
            "needs_background": "light"
          },
          "output_type": "display_data"
        }
      ],
      "source": [
        "fig, axes = plt.subplots(nrows=3, ncols=3, figsize=(8, 8))\n",
        "for i, ax in enumerate(axes.flat):\n",
        "    ax.imshow(images_train[i], cmap='gray')\n",
        "    ax.set_title(f\"Label: {labels_train[i]} ({label_mapping[labels_train[i]]})\")\n",
        "    ax.axis('off')\n",
        "\n",
        "plt.tight_layout()\n",
        "plt.show()"
      ]
    },
    {
      "cell_type": "markdown",
      "id": "44aa75fc",
      "metadata": {
        "id": "44aa75fc"
      },
      "source": [
        "### 3. Подготовьте датасет для обучения и валидации\n",
        "\n",
        "_Подсказка: чтобы вытянуть изображения в вектор, понадобится метод_ `reshape` _из библиотеки_ `numpy`."
      ]
    },
    {
      "cell_type": "code",
      "execution_count": 8,
      "id": "59e4e4e1",
      "metadata": {
        "id": "59e4e4e1"
      },
      "outputs": [
        {
          "name": "stdout",
          "output_type": "stream",
          "text": [
            "Train: (112800, 784)\n",
            "Test: (18800, 784)\n"
          ]
        }
      ],
      "source": [
        "# преобразование каждого изображения в вектор и нормализацию значений пикселей в каждом изображении.\n",
        "images_train = np.array(images_train)\n",
        "images_test = np.array(images_test)\n",
        "\n",
        "X_train = images_train.reshape(images_train.shape[0], -1)\n",
        "y_train = labels_train\n",
        "X_test = images_test.reshape(images_test.shape[0], -1)\n",
        "y_test = labels_test\n",
        "\n",
        "print('Train:', X_train.shape)\n",
        "print('Test:', X_test.shape)"
      ]
    },
    {
      "cell_type": "markdown",
      "id": "018140da",
      "metadata": {
        "id": "018140da"
      },
      "source": [
        "### 4. Выберите модель, обучите её, протестируйте и сохраните\n",
        "Выведите и проанализируйте матрицу ошибок. Какие два символа она чаще всего путает? На каком символе модель чаще всего ошибается?\n",
        "Выведите на экран точность вашей модели. "
      ]
    },
    {
      "cell_type": "code",
      "execution_count": 9,
      "id": "f4e15b9a",
      "metadata": {},
      "outputs": [
        {
          "name": "stderr",
          "output_type": "stream",
          "text": [
            "c:\\Python310\\lib\\site-packages\\dask\\dataframe\\_pyarrow_compat.py:23: UserWarning: You are using pyarrow version 13.0.0 which is known to be insecure. See https://www.cve.org/CVERecord?id=CVE-2023-47248 for further details. Please upgrade to pyarrow>=14.0.1 or install pyarrow-hotfix to patch your current version.\n",
            "  warnings.warn(\n"
          ]
        }
      ],
      "source": [
        "import lightgbm as lgb"
      ]
    },
    {
      "cell_type": "code",
      "execution_count": 10,
      "id": "b9b55a6c",
      "metadata": {},
      "outputs": [],
      "source": [
        "model = lgb.LGBMClassifier(max_depth=5, n_estimators=300, learning_rate=0.05, subsample=0.8, colsample_bytree=0.8, min_child_samples=30)\n",
        "\n",
        "#  # Максимальное количество листьев на дереве. Увеличение этого параметра может помочь модели лучше обучаться, но может привести к переобучению.\n",
        "#     'num_leaves'\n",
        "\n",
        "#     # Максимальная глубина дерева. Ограничение глубины деревьев может помочь избежать переобучения.\n",
        "#     'max_depth'\n",
        "\n",
        "#     # learning_rate: Скорость обучения. Уменьшение скорости обучения и увеличение числа итераций (n_estimators) могут улучшить качество модели.\n",
        "#     'learning_rate'\n",
        "\n",
        "#     # Количество деревьев. Увеличение числа деревьев может улучшить точность модели, но это также увеличит время обучения.\n",
        "#     'n_estimators'\n",
        "\n",
        "#     # Минимальное количество образцов в узле. Увеличение этого параметра может помочь избежать переобучения.\n",
        "#     'min_child_samples'\n",
        "\n",
        "#     # Доля случайно отбираемых данных для обучения каждого дерева. Это помогает избежать переобучения.\n",
        "#     'subsample'\n",
        "\n",
        "#     # Доля случайно отбираемых признаков для каждого дерева. Это также помогает избежать переобучения.\n",
        "#     'colsample_bytree'\n"
      ]
    },
    {
      "cell_type": "code",
      "execution_count": 11,
      "id": "c6a469fd",
      "metadata": {},
      "outputs": [
        {
          "data": {
            "text/html": [
              "<style>#sk-container-id-1 {color: black;}#sk-container-id-1 pre{padding: 0;}#sk-container-id-1 div.sk-toggleable {background-color: white;}#sk-container-id-1 label.sk-toggleable__label {cursor: pointer;display: block;width: 100%;margin-bottom: 0;padding: 0.3em;box-sizing: border-box;text-align: center;}#sk-container-id-1 label.sk-toggleable__label-arrow:before {content: \"▸\";float: left;margin-right: 0.25em;color: #696969;}#sk-container-id-1 label.sk-toggleable__label-arrow:hover:before {color: black;}#sk-container-id-1 div.sk-estimator:hover label.sk-toggleable__label-arrow:before {color: black;}#sk-container-id-1 div.sk-toggleable__content {max-height: 0;max-width: 0;overflow: hidden;text-align: left;background-color: #f0f8ff;}#sk-container-id-1 div.sk-toggleable__content pre {margin: 0.2em;color: black;border-radius: 0.25em;background-color: #f0f8ff;}#sk-container-id-1 input.sk-toggleable__control:checked~div.sk-toggleable__content {max-height: 200px;max-width: 100%;overflow: auto;}#sk-container-id-1 input.sk-toggleable__control:checked~label.sk-toggleable__label-arrow:before {content: \"▾\";}#sk-container-id-1 div.sk-estimator input.sk-toggleable__control:checked~label.sk-toggleable__label {background-color: #d4ebff;}#sk-container-id-1 div.sk-label input.sk-toggleable__control:checked~label.sk-toggleable__label {background-color: #d4ebff;}#sk-container-id-1 input.sk-hidden--visually {border: 0;clip: rect(1px 1px 1px 1px);clip: rect(1px, 1px, 1px, 1px);height: 1px;margin: -1px;overflow: hidden;padding: 0;position: absolute;width: 1px;}#sk-container-id-1 div.sk-estimator {font-family: monospace;background-color: #f0f8ff;border: 1px dotted black;border-radius: 0.25em;box-sizing: border-box;margin-bottom: 0.5em;}#sk-container-id-1 div.sk-estimator:hover {background-color: #d4ebff;}#sk-container-id-1 div.sk-parallel-item::after {content: \"\";width: 100%;border-bottom: 1px solid gray;flex-grow: 1;}#sk-container-id-1 div.sk-label:hover label.sk-toggleable__label {background-color: #d4ebff;}#sk-container-id-1 div.sk-serial::before {content: \"\";position: absolute;border-left: 1px solid gray;box-sizing: border-box;top: 0;bottom: 0;left: 50%;z-index: 0;}#sk-container-id-1 div.sk-serial {display: flex;flex-direction: column;align-items: center;background-color: white;padding-right: 0.2em;padding-left: 0.2em;position: relative;}#sk-container-id-1 div.sk-item {position: relative;z-index: 1;}#sk-container-id-1 div.sk-parallel {display: flex;align-items: stretch;justify-content: center;background-color: white;position: relative;}#sk-container-id-1 div.sk-item::before, #sk-container-id-1 div.sk-parallel-item::before {content: \"\";position: absolute;border-left: 1px solid gray;box-sizing: border-box;top: 0;bottom: 0;left: 50%;z-index: -1;}#sk-container-id-1 div.sk-parallel-item {display: flex;flex-direction: column;z-index: 1;position: relative;background-color: white;}#sk-container-id-1 div.sk-parallel-item:first-child::after {align-self: flex-end;width: 50%;}#sk-container-id-1 div.sk-parallel-item:last-child::after {align-self: flex-start;width: 50%;}#sk-container-id-1 div.sk-parallel-item:only-child::after {width: 0;}#sk-container-id-1 div.sk-dashed-wrapped {border: 1px dashed gray;margin: 0 0.4em 0.5em 0.4em;box-sizing: border-box;padding-bottom: 0.4em;background-color: white;}#sk-container-id-1 div.sk-label label {font-family: monospace;font-weight: bold;display: inline-block;line-height: 1.2em;}#sk-container-id-1 div.sk-label-container {text-align: center;}#sk-container-id-1 div.sk-container {/* jupyter's `normalize.less` sets `[hidden] { display: none; }` but bootstrap.min.css set `[hidden] { display: none !important; }` so we also need the `!important` here to be able to override the default hidden behavior on the sphinx rendered scikit-learn.org. See: https://github.com/scikit-learn/scikit-learn/issues/21755 */display: inline-block !important;position: relative;}#sk-container-id-1 div.sk-text-repr-fallback {display: none;}</style><div id=\"sk-container-id-1\" class=\"sk-top-container\"><div class=\"sk-text-repr-fallback\"><pre>LGBMClassifier(colsample_bytree=0.8, learning_rate=0.05, max_depth=5,\n",
              "               min_child_samples=30, n_estimators=300, subsample=0.8)</pre><b>In a Jupyter environment, please rerun this cell to show the HTML representation or trust the notebook. <br />On GitHub, the HTML representation is unable to render, please try loading this page with nbviewer.org.</b></div><div class=\"sk-container\" hidden><div class=\"sk-item\"><div class=\"sk-estimator sk-toggleable\"><input class=\"sk-toggleable__control sk-hidden--visually\" id=\"sk-estimator-id-1\" type=\"checkbox\" checked><label for=\"sk-estimator-id-1\" class=\"sk-toggleable__label sk-toggleable__label-arrow\">LGBMClassifier</label><div class=\"sk-toggleable__content\"><pre>LGBMClassifier(colsample_bytree=0.8, learning_rate=0.05, max_depth=5,\n",
              "               min_child_samples=30, n_estimators=300, subsample=0.8)</pre></div></div></div></div></div>"
            ],
            "text/plain": [
              "LGBMClassifier(colsample_bytree=0.8, learning_rate=0.05, max_depth=5,\n",
              "               min_child_samples=30, n_estimators=300, subsample=0.8)"
            ]
          },
          "execution_count": 11,
          "metadata": {},
          "output_type": "execute_result"
        }
      ],
      "source": [
        "model.fit(X_train, y_train)"
      ]
    },
    {
      "cell_type": "code",
      "execution_count": 12,
      "id": "e78e06d1",
      "metadata": {},
      "outputs": [
        {
          "name": "stdout",
          "output_type": "stream",
          "text": [
            "Train Accuracy: 0.9849202127659574\n",
            "Test Accuracy: 0.8220744680851064\n"
          ]
        }
      ],
      "source": [
        "y_pred_train = model.predict(X_train)\n",
        "y_pred_test = model.predict(X_test)\n",
        "\n",
        "# Оценка модели\n",
        "accuracy_train = accuracy_score(y_train, y_pred_train)\n",
        "accuracy_test = accuracy_score(y_test, y_pred_test)\n",
        "\n",
        "print('Train Accuracy:', accuracy_train)\n",
        "print('Test Accuracy:', accuracy_test)"
      ]
    },
    {
      "cell_type": "code",
      "execution_count": 13,
      "id": "45d00f37",
      "metadata": {},
      "outputs": [
        {
          "name": "stdout",
          "output_type": "stream",
          "text": [
            "\n",
            "Матрица ошибок:\n",
            "[[278   0   0 ...   1   0   1]\n",
            " [  0 257   1 ...   1   0   4]\n",
            " [  0   0 336 ...   1   0   0]\n",
            " ...\n",
            " [  0   0   1 ... 212   0   5]\n",
            " [  0   0   0 ...   0 367   3]\n",
            " [  1   3   0 ...   0   5 333]]\n"
          ]
        }
      ],
      "source": [
        "# Построение матрицы ошибок\n",
        "conf_matrix = confusion_matrix(y_test, y_pred_test)\n",
        "\n",
        "# Вывод матрицы ошибок\n",
        "print(\"\\nМатрица ошибок:\")\n",
        "print(conf_matrix)"
      ]
    },
    {
      "cell_type": "code",
      "execution_count": 14,
      "id": "562442d7",
      "metadata": {},
      "outputs": [
        {
          "data": {
            "image/png": "[encoded data removed]",
            "text/plain": [
              "<Figure size 1440x1440 with 2 Axes>"
            ]
          },
          "metadata": {
            "needs_background": "light"
          },
          "output_type": "display_data"
        }
      ],
      "source": [
        "\n",
        "plt.figure(figsize=[20,20])\n",
        "sns.heatmap(conf_matrix, annot=True, square=True, cmap='Blues')\n",
        "\n",
        "plt.ylabel('Actual label')\n",
        "plt.xlabel('Predicted label')\n",
        "plt.title(f'Accuracy Score: {accuracy_test:.2f}')\n",
        "plt.show()"
      ]
    },
    {
      "cell_type": "code",
      "execution_count": 15,
      "id": "85cd80cb",
      "metadata": {},
      "outputs": [
        {
          "name": "stdout",
          "output_type": "stream",
          "text": [
            "\n",
            "Символы, которые чаще всего путаются между собой: 15 и 40\n",
            "\n",
            "Символ, на котором модель чаще всего ошибается: 0\n"
          ]
        }
      ],
      "source": [
        "most_confused_symbols = np.unravel_index(np.argmax(conf_matrix - np.eye(conf_matrix.shape[0]) * conf_matrix.max()), conf_matrix.shape)\n",
        "symbol_1 = most_confused_symbols[0]\n",
        "symbol_2 = most_confused_symbols[1]\n",
        "print(\"\\nСимволы, которые чаще всего путаются между собой:\", symbol_1, \"и\", symbol_2)\n",
        "\n",
        "# Находим символ, на котором модель чаще всего ошибается\n",
        "most_mistaken_symbol = np.argmax(np.sum(conf_matrix, axis=1))\n",
        "print(\"\\nСимвол, на котором модель чаще всего ошибается:\", most_mistaken_symbol)"
      ]
    },
    {
      "cell_type": "code",
      "execution_count": 16,
      "id": "e66ef38a",
      "metadata": {
        "id": "e66ef38a"
      },
      "outputs": [],
      "source": [
        "with open(os.path.join('myapp', 'model.pkl'),'wb') as f:\n",
        "    pickle.dump(model, f)"
      ]
    }
  ],
  "metadata": {
    "colab": {
      "provenance": []
    },
    "kernelspec": {
      "display_name": "Python 3 (ipykernel)",
      "language": "python",
      "name": "python3"
    },
    "language_info": {
      "codemirror_mode": {
        "name": "ipython",
        "version": 3
      },
      "file_extension": ".py",
      "mimetype": "text/x-python",
      "name": "python",
      "nbconvert_exporter": "python",
      "pygments_lexer": "ipython3",
      "version": "3.10.5"
    }
  },
  "nbformat": 4,
  "nbformat_minor": 5
}
